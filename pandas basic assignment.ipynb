{
 "cells": [
  {
   "cell_type": "markdown",
   "id": "4345186d-b588-48c1-9331-8e4b7ef279a6",
   "metadata": {},
   "source": [
    "## pandas basic assignment"
   ]
  },
  {
   "cell_type": "markdown",
   "id": "13fd1615-af19-4f41-bce3-4f99ac36950e",
   "metadata": {},
   "source": [
    "Q1. Create a Pandas Series that contains the following data: 4, 8, 15, 16, 23, and 42. Then, print the series."
   ]
  },
  {
   "cell_type": "code",
   "execution_count": 1,
   "id": "4b7ffa25-cb61-4d03-acae-d5c93cc328ad",
   "metadata": {},
   "outputs": [
    {
     "name": "stdout",
     "output_type": "stream",
     "text": [
      "0     4\n",
      "1     8\n",
      "2    15\n",
      "3    16\n",
      "4    23\n",
      "5    42\n",
      "dtype: int64\n"
     ]
    }
   ],
   "source": [
    "import pandas as pd\n",
    "\n",
    "data = [4, 8, 15, 16, 23, 42]\n",
    "series = pd.Series(data)\n",
    "print(series)\n"
   ]
  },
  {
   "cell_type": "markdown",
   "id": "553e2c3d-520e-4664-80b9-6b0e0c0662f1",
   "metadata": {},
   "source": [
    "The output shows the index of each element of the series, which is automatically assigned by default."
   ]
  },
  {
   "cell_type": "code",
   "execution_count": null,
   "id": "07ac7ac9-4e2d-4b78-822d-755f21824bd1",
   "metadata": {},
   "outputs": [],
   "source": []
  },
  {
   "cell_type": "markdown",
   "id": "f4ed3b59-e836-40f0-847f-dcd13399795a",
   "metadata": {},
   "source": [
    "Q2. Create a variable of list type containing 10 elements in it, and apply pandas.Series function on the\n",
    "variable print it."
   ]
  },
  {
   "cell_type": "code",
   "execution_count": 1,
   "id": "17e23f71-173c-45f1-9da4-8a92ef3a1be9",
   "metadata": {},
   "outputs": [
    {
     "name": "stdout",
     "output_type": "stream",
     "text": [
      "0     1\n",
      "1     2\n",
      "2     3\n",
      "3     4\n",
      "4     5\n",
      "5     6\n",
      "6     7\n",
      "7     8\n",
      "8     9\n",
      "9    10\n",
      "dtype: int64\n"
     ]
    }
   ],
   "source": [
    "import pandas as pd\n",
    "\n",
    "my_list = [1, 2, 3, 4, 5, 6, 7, 8, 9, 10]\n",
    "my_series = pd.Series(my_list)\n",
    "print(my_series)\n",
    "\n"
   ]
  },
  {
   "cell_type": "code",
   "execution_count": null,
   "id": "22980b12-ce6b-4a85-9dac-6e32ad78dc48",
   "metadata": {},
   "outputs": [],
   "source": []
  },
  {
   "cell_type": "markdown",
   "id": "766e7a31-330f-455e-8aa3-3347cb56c06d",
   "metadata": {},
   "source": [
    "ANSWER:3 IS TABLE FORM SO IM WRITING DIRECT ANSWER.\n"
   ]
  },
  {
   "cell_type": "code",
   "execution_count": 2,
   "id": "1a41c797-27e6-467c-961a-cd0a2bdb8007",
   "metadata": {},
   "outputs": [],
   "source": [
    "import pandas as pd"
   ]
  },
  {
   "cell_type": "code",
   "execution_count": 3,
   "id": "093fc47a-39c7-41f2-9c6d-873c85a38e49",
   "metadata": {},
   "outputs": [],
   "source": [
    "data={ \n",
    "    \"name\":[\"Alice\",\"bob\",\"claire\"],\"Age\":[25,30,27],\"Gender\":[\"female\",\"male\",\"female\"]}"
   ]
  },
  {
   "cell_type": "code",
   "execution_count": 4,
   "id": "8f4f2108-c765-46ef-8c06-6472af235e6b",
   "metadata": {},
   "outputs": [],
   "source": [
    "df=pd.DataFrame(data)"
   ]
  },
  {
   "cell_type": "code",
   "execution_count": 5,
   "id": "aaaf54d4-5791-4fc2-be40-894919187ce0",
   "metadata": {},
   "outputs": [
    {
     "name": "stdout",
     "output_type": "stream",
     "text": [
      "     name  Age  Gender\n",
      "0   Alice   25  female\n",
      "1     bob   30    male\n",
      "2  claire   27  female\n"
     ]
    }
   ],
   "source": [
    "print(df)"
   ]
  },
  {
   "cell_type": "code",
   "execution_count": null,
   "id": "ef51b31c-2883-41f7-92c1-74bb1d3ebe9a",
   "metadata": {},
   "outputs": [],
   "source": []
  },
  {
   "cell_type": "markdown",
   "id": "0408ce82-4472-45de-8983-aa2db4e8d45c",
   "metadata": {},
   "source": [
    "Q4. What is ‘DataFrame’ in pandas and how is it different from pandas.series? Explain with an example."
   ]
  },
  {
   "cell_type": "markdown",
   "id": "e2d3b8f1-e2dd-47a9-ac63-eefc15cdb581",
   "metadata": {},
   "source": [
    "In Pandas, a DataFrame is a two-dimensional labeled data structure that consists of rows and columns. It is similar to a spreadsheet or a SQL table. A DataFrame can contain multiple columns, each of which can have a different data type. DataFrame is one of the most commonly used data structures in Pandas.\n",
    "\n",
    "On the other hand, a Series is a one-dimensional labeled data structure in Pandas. It is similar to a single column in a spreadsheet or a SQL table. A Series contains a single data type and can be thought of as a labeled array.\n",
    "\n",
    "Here's an example that illustrates the difference between DataFrame and Series. Let's consider a dataset that contains information about some cars, including their make, model, year of manufacture, and fuel economy:"
   ]
  },
  {
   "cell_type": "code",
   "execution_count": null,
   "id": "426cac17-41b5-440c-a955-caf55b30b5db",
   "metadata": {},
   "outputs": [],
   "source": [
    "make      model     year    mpg\n",
    "Toyota    Camry     2020    34\n",
    "Honda     Civic     2019    36\n",
    "Ford      Mustang   2021    25\n",
    "Tesla     Model 3   2022    134\n"
   ]
  },
  {
   "cell_type": "code",
   "execution_count": 7,
   "id": "ff12bd1c-af5d-45df-a20f-fb4039c50e0f",
   "metadata": {},
   "outputs": [
    {
     "name": "stdout",
     "output_type": "stream",
     "text": [
      "     make    model  year  mpg\n",
      "0  Toyota    Camry  2020   34\n",
      "1   Honda    Civic  2019   36\n",
      "2    Ford  Mustang  2021   25\n",
      "3   Tesla  Model 3  2022  134\n"
     ]
    }
   ],
   "source": [
    "import pandas as pd\n",
    "\n",
    "data = {\n",
    "    'make': ['Toyota', 'Honda', 'Ford', 'Tesla'],\n",
    "    'model': ['Camry', 'Civic', 'Mustang', 'Model 3'],\n",
    "    'year': [2020, 2019, 2021, 2022],\n",
    "    'mpg': [34, 36, 25, 134]\n",
    "}\n",
    "\n",
    "df = pd.DataFrame(data)\n",
    "print(df)\n"
   ]
  },
  {
   "cell_type": "markdown",
   "id": "6e8a81ac-71fc-47b5-8445-9903da22a1df",
   "metadata": {},
   "source": [
    "In this example, we have created a DataFrame named df that has four columns: make, model, year, and mpg. Each column is a Series. We can access a specific column by its name, for example, df['make'], which will return the Series of make values:"
   ]
  },
  {
   "cell_type": "code",
   "execution_count": null,
   "id": "ca10f5a8-003c-4c0c-aad8-65429f9cf7f0",
   "metadata": {},
   "outputs": [],
   "source": [
    "0    Toyota\n",
    "1     Honda\n",
    "2      Ford\n",
    "3     Tesla\n",
    "Name: make, dtype: object\n"
   ]
  },
  {
   "cell_type": "markdown",
   "id": "07c73cd2-0cbb-4b49-8843-86731b6b0640",
   "metadata": {},
   "source": [
    "We can also access a specific row using the .loc or .iloc attribute. For example, df.loc[0] will return the first row of the DataFrame:"
   ]
  },
  {
   "cell_type": "code",
   "execution_count": null,
   "id": "a400c4c3-2b1a-4cdc-a41d-32f15c972993",
   "metadata": {},
   "outputs": [],
   "source": [
    "make     Toyota\n",
    "model     Camry\n",
    "year       2020\n",
    "mpg          34\n",
    "Name: 0, dtype: object\n"
   ]
  },
  {
   "cell_type": "markdown",
   "id": "8f7839c9-c0a5-422d-8d38-84b54ec7866c",
   "metadata": {},
   "source": [
    "In summary, a DataFrame is a two-dimensional data structure that can contain multiple columns, while a Series is a one-dimensional data structure that represents a single column."
   ]
  },
  {
   "cell_type": "code",
   "execution_count": null,
   "id": "738f4ef8-a6c9-42dc-9e0d-913ca76358a7",
   "metadata": {},
   "outputs": [],
   "source": []
  },
  {
   "cell_type": "markdown",
   "id": "2000e35d-d8b2-4c00-aeee-68a83f5707e5",
   "metadata": {},
   "source": [
    "Q5. What are some common functions you can use to manipulate data in a Pandas DataFrame? Can\n",
    "you give an example of when you might use one of these functions?"
   ]
  },
  {
   "cell_type": "markdown",
   "id": "a8bd5051-89a6-42eb-9d77-ed469ab60a05",
   "metadata": {},
   "source": [
    "Pandas provides a wide range of functions for manipulating data in a DataFrame. Some of the common functions are:\n",
    "\n",
    "head() and tail(): These functions are used to retrieve the first or last n rows of a DataFrame, respectively. For example, df.head() will return the first 5 rows of the DataFrame df.\n",
    "\n",
    "describe(): This function is used to generate descriptive statistics for a DataFrame, including the count, mean, standard deviation, minimum and maximum values, and quartiles. For example, df.describe() will return a summary of the statistics for all the numerical columns in the DataFrame df.\n",
    "\n",
    "drop(): This function is used to remove rows or columns from a DataFrame. For example, df.drop('column_name', axis=1) will drop the column named 'column_name' from the DataFrame df.\n",
    "\n",
    "groupby(): This function is used to group rows in a DataFrame based on one or more columns and apply an aggregation function to each group. For example, df.groupby('column_name').mean() will group the rows in df based on the values in the column named 'column_name', and compute the mean of the numerical columns for each group.\n",
    "\n",
    "sort_values(): This function is used to sort a DataFrame based on one or more columns. For example, df.sort_values('column_name', ascending=False) will sort the rows in df based on the values in the column named 'column_name' in descending order.\n",
    "\n",
    "fillna(): This function is used to fill missing values in a DataFrame. For example, df.fillna(0) will replace all missing values in df with 0.\n",
    "\n",
    "merge(): This function is used to combine two or more DataFrames based on a common column. For example, pd.merge(df1, df2, on='column_name') will merge df1 and df2 based on the values in the column named 'column_name'.\n",
    "\n",
    "These are just a few of the common functions provided by Pandas for manipulating data in a DataFrame. The choice of which function to use depends on the specific task at hand. For example, if we have a DataFrame containing sales data for different regions, we might use the groupby() function to group the sales by region and compute the total sales for each region."
   ]
  },
  {
   "cell_type": "code",
   "execution_count": null,
   "id": "23ee2956-fbfd-4914-9a91-df6edae0d0ac",
   "metadata": {},
   "outputs": [],
   "source": []
  },
  {
   "cell_type": "markdown",
   "id": "c1de6aa9-79cd-42c1-93b6-6d46b59c9c58",
   "metadata": {},
   "source": [
    "Q6. Which of the following is mutable in nature Series, DataFrame, Panel?"
   ]
  },
  {
   "cell_type": "markdown",
   "id": "0202a55e-613a-40ba-bd53-4b4406f4e14e",
   "metadata": {},
   "source": [
    "In Pandas, Series and DataFrame are mutable in nature, while Panel is considered deprecated and is not recommended to use anymore.\n",
    "\n",
    "A Series can be modified using the indexing notation, for example, s['key'] = value. Similarly, a DataFrame can be modified using the same indexing notation for columns and rows, for example, df['new_column'] = values or df.loc[row_index, 'column_name'] = new_value.\n",
    "\n",
    "However, it's important to note that some operations on a DataFrame or a Series return a new object instead of modifying the original one. For instance, the drop() method returns a new DataFrame with the specified rows or columns removed, rather than modifying the original DataFrame in place."
   ]
  },
  {
   "cell_type": "code",
   "execution_count": null,
   "id": "eff491ff-2534-4fc0-960e-b323b9eca446",
   "metadata": {},
   "outputs": [],
   "source": []
  }
 ],
 "metadata": {
  "kernelspec": {
   "display_name": "Python 3 (ipykernel)",
   "language": "python",
   "name": "python3"
  },
  "language_info": {
   "codemirror_mode": {
    "name": "ipython",
    "version": 3
   },
   "file_extension": ".py",
   "mimetype": "text/x-python",
   "name": "python",
   "nbconvert_exporter": "python",
   "pygments_lexer": "ipython3",
   "version": "3.10.8"
  }
 },
 "nbformat": 4,
 "nbformat_minor": 5
}
